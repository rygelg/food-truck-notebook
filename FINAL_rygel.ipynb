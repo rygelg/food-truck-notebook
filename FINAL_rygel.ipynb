{
 "cells": [
  {
   "cell_type": "markdown",
   "id": "0c61ba5a",
   "metadata": {},
   "source": [
    "# Introduction\n",
    "\n",
    "This notebook showcases my implementation of the Google Maps API to create a DataFrame of local food truck data in my local city, West Lafayette!\n",
    "\n",
    "You will need to install the libraries geopy, ipyleaflet, and googlemaps. As well as pandas, numpy, and requests. Additionally, for dynamic DataFrame creation, you will need a Google API key. You get $200 in free credits each month, which is more than enough for a few tests.\n",
    "\n",
    "## Setup"
   ]
  },
  {
   "cell_type": "code",
   "execution_count": null,
   "id": "ad23bdd5",
   "metadata": {},
   "outputs": [],
   "source": [
    "#Installs necessary libraries\n",
    "!pip install geopy\n",
    "!pip install ipyleaflet\n",
    "!pip install googlemaps\n",
    "!pip install ipywidgets\n",
    "!jupyter labextension install @jupyter-widgets/jupyterlab-manager\n",
    "!jupyter labextension install jupyter-leaflet\n",
    "print(\"Ready to continue.\")"
   ]
  },
  {
   "cell_type": "code",
   "execution_count": null,
   "id": "efea6976",
   "metadata": {},
   "outputs": [],
   "source": [
    "import pandas as pd\n",
    "import numpy as np\n",
    "import requests\n",
    "import googlemaps\n",
    "from ipywidgets import HTML\n",
    "from ipyleaflet import Map, basemaps, Marker, AntPath, Popup\n",
    "from geopy import distance\n",
    "import json\n",
    "import os\n",
    "from ast import literal_eval\n",
    "\n",
    "\n",
    "print('Setup done! Boiler up!')"
   ]
  },
  {
   "cell_type": "markdown",
   "id": "7a1483f0",
   "metadata": {},
   "source": [
    "To reproduce the results, please write an API key here:"
   ]
  },
  {
   "cell_type": "code",
   "execution_count": null,
   "id": "823fe378",
   "metadata": {
    "scrolled": false
   },
   "outputs": [],
   "source": [
    "%env API_KEY = \"INSERT_KEY\""
   ]
  },
  {
   "cell_type": "code",
   "execution_count": null,
   "id": "e721bf47",
   "metadata": {},
   "outputs": [],
   "source": [
    "#Access API key from environment and creates a new Google maps client\n",
    "api_key = os.getenv('API_KEY')\n",
    "gmaps = googlemaps.Client(key=api_key)"
   ]
  },
  {
   "cell_type": "code",
   "execution_count": null,
   "id": "af6ca572",
   "metadata": {},
   "outputs": [],
   "source": [
    "#Sets our query and location for our food truck search\n",
    "query = \"food trucks\"\n",
    "#West Lafyette coordinates\n",
    "location = (40.425869, -86.908066)\n",
    "radius = 2"
   ]
  },
  {
   "cell_type": "code",
   "execution_count": null,
   "id": "f3d6e914",
   "metadata": {
    "scrolled": true
   },
   "outputs": [],
   "source": [
    "#Uses Google places API to create a dictionary of search results\n",
    "food_truck_search = gmaps.places(query, location, radius)"
   ]
  },
  {
   "cell_type": "code",
   "execution_count": null,
   "id": "78338321",
   "metadata": {},
   "outputs": [],
   "source": [
    "#Creates a dataframe from the search results\n",
    "df = pd.DataFrame(food_truck_search['results'])\n",
    "df = df.set_index('name')"
   ]
  },
  {
   "cell_type": "code",
   "execution_count": null,
   "id": "b40b3488",
   "metadata": {},
   "outputs": [],
   "source": [
    "#Obtains place info from each of the listings collected\n",
    "truck_id = df['place_id'].to_list()\n",
    "all_trucks = list()\n",
    "for place_id in truck_id:\n",
    "    place_info = gmaps.place(place_id)\n",
    "    all_trucks.append(place_info)"
   ]
  },
  {
   "cell_type": "code",
   "execution_count": null,
   "id": "16da5f4e",
   "metadata": {},
   "outputs": [],
   "source": [
    "#Converts time format to more easily readable\n",
    "def convert_time(number_str):\n",
    "    if len(number_str) == 4:\n",
    "        hours = int(number_str[:2])\n",
    "        minutes = int(number_str[2:])\n",
    "        if 0 <= hours < 24 and 0 <= minutes < 60:\n",
    "            if hours < 12:\n",
    "                am_pm = \"am\"\n",
    "                if hours == 0:\n",
    "                    hours = 12\n",
    "            else:\n",
    "                am_pm = \"pm\"\n",
    "                if hours > 12:\n",
    "                    hours -= 12\n",
    "            formatted_time = f\"{hours:02d}:{minutes:02d} {am_pm}\"\n",
    "            return formatted_time\n",
    "    return \"Invalid input\""
   ]
  },
  {
   "cell_type": "code",
   "execution_count": null,
   "id": "374688d6",
   "metadata": {
    "scrolled": true
   },
   "outputs": [],
   "source": [
    "hours_dict = {}\n",
    "for place in all_trucks:\n",
    "    opening_hours = place['result'].get('opening_hours')\n",
    "    if not opening_hours:\n",
    "        None\n",
    "    elif opening_hours.keys():\n",
    "        hours_dict[place['result'].get('name')] = (opening_hours.get('periods'))\n",
    "\n",
    "final_hours_dict = {}\n",
    "\n",
    "for truck in hours_dict:\n",
    "    for detail in hours_dict[truck]:\n",
    "        if detail['open'].get('day') == 5:\n",
    "            open_time = convert_time(detail['open']['time'])\n",
    "            close_time = convert_time(detail['close']['time'])\n",
    "            final_hours_dict[truck] = '{} - {}'.format(open_time, close_time)\n",
    "        elif not detail['open'].get('day') == 5:\n",
    "            for i in range(0,6):\n",
    "                if detail['open'].get('day') == i:\n",
    "                    open_time = convert_time(detail['open']['time'])\n",
    "                    close_time = convert_time(detail['close']['time'])\n",
    "                    final_hours_dict[truck] = '{} - {}'.format(open_time, close_time)\n",
    "\n",
    "open_hours = pd.Series(final_hours_dict, name='Open Hours').fillna(\"Unknown\")"
   ]
  },
  {
   "cell_type": "code",
   "execution_count": null,
   "id": "0a3f4a56",
   "metadata": {},
   "outputs": [],
   "source": [
    "#Generates a \"weighted\" review score. A food truck with more reviews will have a greater value placed on their\n",
    "#overall ranking. \n",
    "def calc_weighted_review(rating, num_reviews, weight):\n",
    "    weighted_num_reviews = num_reviews ** weight\n",
    "    weighted_score = (rating * weighted_num_reviews) / (weighted_num_reviews + 1)\n",
    "    return weighted_score.round(2)"
   ]
  },
  {
   "cell_type": "code",
   "execution_count": null,
   "id": "52df9a99",
   "metadata": {},
   "outputs": [],
   "source": [
    "weighted_review = calc_weighted_review(df['rating'], df['user_ratings_total'], 0.75).reindex(df.index).rename('Weighted Score')"
   ]
  },
  {
   "cell_type": "code",
   "execution_count": null,
   "id": "4fa4579d",
   "metadata": {},
   "outputs": [],
   "source": [
    "formatted_address = df['formatted_address'].rename(\"Address\")\n",
    "review_score = df['rating'].rename(\"Google Rating\")"
   ]
  },
  {
   "cell_type": "code",
   "execution_count": null,
   "id": "28b38f46",
   "metadata": {},
   "outputs": [],
   "source": [
    "websites = pd.Series([place['result'].get('website') for place in all_trucks], name = \"Website\")\n",
    "phone_num = pd.Series([place['result'].get('formatted_phone_number') for place in all_trucks], name = \"Phone Number\")\n",
    "websites.index = phone_num.index = df.index"
   ]
  },
  {
   "cell_type": "code",
   "execution_count": null,
   "id": "0220fd18",
   "metadata": {
    "scrolled": false
   },
   "outputs": [],
   "source": [
    "food_truck_df = pd.concat([formatted_address, open_hours, review_score, weighted_review, websites, phone_num], axis=1)\n",
    "food_truck_df = food_truck_df.reset_index().rename(columns={'index':'Name'}).fillna(\"Unknown\")"
   ]
  },
  {
   "cell_type": "code",
   "execution_count": null,
   "id": "91aeb10d",
   "metadata": {},
   "outputs": [],
   "source": [
    "lat_clean = {}\n",
    "long_clean = {}\n",
    "for i in range(0, len(df)):\n",
    "    geometry_dict = df.iloc[i]['geometry']\n",
    "    lat_clean[i] = (geometry_dict['location']['lat'])\n",
    "    long_clean[i] = (geometry_dict['location']['lng'])\n",
    "clean_loc = pd.DataFrame([lat_clean, long_clean])\n",
    "clean_loc = clean_loc.rename({0:'Latitude', 1:'Longitude'}).T\n",
    "\n",
    "tuples = list(zip(clean_loc['Latitude'], clean_loc['Longitude']))\n",
    "tuples = pd.Series(tuples).rename('location')"
   ]
  },
  {
   "cell_type": "markdown",
   "id": "59f6962a",
   "metadata": {},
   "source": [
    "Export and display final DataFrame:"
   ]
  },
  {
   "cell_type": "code",
   "execution_count": null,
   "id": "d3ec3d98",
   "metadata": {},
   "outputs": [],
   "source": [
    "final_df = pd.concat([food_truck_df, tuples], axis=1)\n",
    "final_df.rename(columns={'location':\"Coordinates\"}, inplace=True)"
   ]
  },
  {
   "cell_type": "code",
   "execution_count": null,
   "id": "bbe83c17",
   "metadata": {
    "scrolled": true
   },
   "outputs": [],
   "source": [
    "final_df.to_csv(\"food_truck_data.csv\", index=False)\n",
    "print(\"Exported!\")"
   ]
  },
  {
   "cell_type": "markdown",
   "id": "d6ac52b2",
   "metadata": {},
   "source": [
    "# Import CSV\n",
    "If you don't want to use an API key, start running code from here!"
   ]
  },
  {
   "cell_type": "code",
   "execution_count": null,
   "id": "62a9a6a1",
   "metadata": {},
   "outputs": [],
   "source": [
    "final_df = pd.read_csv(\"food_truck_data.csv\")\n",
    "location = (40.425869, -86.908066) #West Lafayette"
   ]
  },
  {
   "cell_type": "markdown",
   "id": "97ddb721",
   "metadata": {},
   "source": [
    "# Visualization\n",
    "In this section, I will use ipyleaflet to visualize our ideal food truck route!"
   ]
  },
  {
   "cell_type": "code",
   "execution_count": null,
   "id": "05616a0d",
   "metadata": {},
   "outputs": [],
   "source": [
    "name_fix = final_df.reset_index()\n",
    "all_coords = list()\n",
    "for coordinate in final_df['Coordinates']:\n",
    "    all_coords.append(literal_eval(coordinate))\n",
    "\n",
    "coordinates_series = pd.Series(all_coords, name=\"Coordinates\")\n",
    "\n",
    "food_truck_locations = pd.concat([name_fix['Name'], coordinates_series, final_df['Address']], axis=1)\n"
   ]
  },
  {
   "cell_type": "code",
   "execution_count": null,
   "id": "734bb3c8",
   "metadata": {
    "scrolled": false
   },
   "outputs": [],
   "source": [
    "food_map = Map(\n",
    "    basemap=basemaps.OpenStreetMap.Mapnik,\n",
    "    center=location,\n",
    "    zoom=13\n",
    ")\n",
    "\n",
    "food_trucks = [[x,y,z] for x, y, z in zip(food_truck_locations['Name'], food_truck_locations['Coordinates'], food_truck_locations['Address'])]\n",
    "for truck in food_trucks:\n",
    "    location = tuple(truck[1])\n",
    "    marker = Marker(location=location, title = truck[0], draggable=False)\n",
    "    food_map.add_layer(marker)\n",
    "    detail = HTML()\n",
    "    string = \"<b>\" + truck[0] + \"</b>\\n\"+ truck[2] \n",
    "    detail.value = string\n",
    "    \n",
    "    popup = Popup(\n",
    "    location=truck[1],\n",
    "    child=detail,\n",
    "    close_button=False,\n",
    "    auto_close=False,\n",
    "    close_on_escape_key=False,\n",
    "    min_width= 2000,\n",
    "    max_width = 20000\n",
    "    )\n",
    "    \n",
    "    marker.popup = popup\n",
    "    \n",
    "food_map\n",
    "\n",
    "#Creates a food map! Click the markers to see the address and name!\n",
    "#Note there WILL be an error that pops up. I looked into this and found this issue: \n",
    "#https://github.com/jupyter-widgets/ipyleaflet/issues/1120\n",
    "#The map is still functional."
   ]
  },
  {
   "cell_type": "markdown",
   "id": "f94e0f00",
   "metadata": {},
   "source": [
    "Now that we have created our map, let's find out the most ideal route to take! (As a side note, ipyleaflet seems to have an unresolved issue with popups on the map. Link to issue [here](https://github.com/jupyter-widgets/ipyleaflet/issues/1120). \n",
    "\n",
    "# Distance Calculation"
   ]
  },
  {
   "cell_type": "code",
   "execution_count": null,
   "id": "03ec7f3b",
   "metadata": {},
   "outputs": [],
   "source": [
    "distance_calc = food_truck_locations.dropna()"
   ]
  },
  {
   "cell_type": "code",
   "execution_count": null,
   "id": "33fccf00",
   "metadata": {},
   "outputs": [],
   "source": [
    "distance_table = [[0 for i in range(len(distance_calc))] for j in range(len(distance_calc))]\n",
    "distance_list = food_truck_locations['Coordinates']"
   ]
  },
  {
   "cell_type": "code",
   "execution_count": null,
   "id": "d16e79f4",
   "metadata": {},
   "outputs": [],
   "source": [
    "for i in range(len(distance_calc)):\n",
    "    for j in range(len(distance_calc)):\n",
    "        distance_table[i][j] = distance.distance(distance_list[i], distance_list[j]).miles\n",
    "\n",
    "distance_table = pd.DataFrame(distance_table)"
   ]
  },
  {
   "cell_type": "code",
   "execution_count": null,
   "id": "1becd8ba",
   "metadata": {},
   "outputs": [],
   "source": [
    "temp_final_df = final_df.copy().set_index('Name')\n",
    "distance_table.index = temp_final_df.index\n",
    "distance_table = distance_table.T"
   ]
  },
  {
   "cell_type": "code",
   "execution_count": null,
   "id": "d86d97f9",
   "metadata": {
    "scrolled": true
   },
   "outputs": [],
   "source": [
    "distance_table.index = temp_final_df.index"
   ]
  },
  {
   "cell_type": "code",
   "execution_count": null,
   "id": "d0814e1e",
   "metadata": {
    "scrolled": true
   },
   "outputs": [],
   "source": [
    "distance_table.replace(0, np.nan, inplace=True)\n",
    "min_list = distance_table.idxmin()\n",
    "#Finds the nearest food truck from each other food truck."
   ]
  },
  {
   "cell_type": "code",
   "execution_count": null,
   "id": "3a3c25b2",
   "metadata": {
    "scrolled": true
   },
   "outputs": [],
   "source": [
    "styled_distance = distance_table.style.background_gradient(cmap='viridis', vmin=0, vmax=5.0).set_properties(**{'font-size': '11px'})\n",
    "styled_distance\n",
    "#Presents distance table in a heatmap format"
   ]
  },
  {
   "cell_type": "code",
   "execution_count": null,
   "id": "41ebdc04",
   "metadata": {},
   "outputs": [],
   "source": [
    "min_list = min_list.reset_index(drop=True)\n",
    "to_and_from_coords = list()\n",
    "for i in range(len(distance_table)):\n",
    "    start_loc = distance_table.iloc[i]\n",
    "    to_loc = distance_table.iloc[i].idxmin()\n",
    "    if food_truck_locations[food_truck_locations['Name'] == to_loc]['Coordinates'].any():\n",
    "        to_loc = food_truck_locations[food_truck_locations['Name'] == to_loc]['Coordinates'].iloc[0]\n",
    "        start_loc = food_truck_locations[food_truck_locations['Name'] == start_loc.name]['Coordinates'].iloc[0]\n",
    "        to_and_from_coords.append((start_loc, to_loc))\n",
    "# Determines the shortest route from each food truck to the next."
   ]
  },
  {
   "cell_type": "code",
   "execution_count": null,
   "id": "69323fb1",
   "metadata": {},
   "outputs": [],
   "source": [
    "# Adds the paths to the map!\n",
    "for coords in to_and_from_coords:\n",
    "    path = AntPath(locations = [coords[0], coords[1]], color='#000000',\n",
    "    pulse_color='#CEB888')\n",
    "    food_map.add_layer(path)"
   ]
  },
  {
   "cell_type": "markdown",
   "id": "280e3d47",
   "metadata": {},
   "source": [
    "# Final Data Display\n"
   ]
  },
  {
   "cell_type": "code",
   "execution_count": null,
   "id": "eb67abb2",
   "metadata": {
    "scrolled": true
   },
   "outputs": [],
   "source": [
    "display(food_map)"
   ]
  },
  {
   "cell_type": "code",
   "execution_count": null,
   "id": "3a8bcff3",
   "metadata": {
    "scrolled": false
   },
   "outputs": [],
   "source": [
    "display(final_df)"
   ]
  },
  {
   "cell_type": "markdown",
   "id": "57bce00c",
   "metadata": {},
   "source": [
    "## Distances are in miles."
   ]
  },
  {
   "cell_type": "code",
   "execution_count": null,
   "id": "3810f3ce",
   "metadata": {
    "scrolled": false
   },
   "outputs": [],
   "source": [
    "display(styled_distance)"
   ]
  },
  {
   "cell_type": "markdown",
   "id": "a5fcc868",
   "metadata": {},
   "source": [
    "# Analysis\n",
    "Here is my guide to the ultimate weekend filled with food trucks in the West Lafayette area, with a splash of Indianapolis. \n",
    "\n",
    "## About my DataFrame\n",
    "My DataFrame consistst of a dynamically generated list of food trucks obtained by a query to the Google Maps API. I obtained this data in a series of dictionaries with a Google Maps library in Python. I cleaned up this data and narrowed down essential columns to determine what was necessary for someone interested in local food trucks. Name, address, website, phone number, and Google Rating were scraped directly from Google's Place API. Open hours were calculated from parsing through any available hours listings and applying the first result found. (**Note:** This method does extrapolate data, but for ease of access, displaying the first available time generally gives an idea of a truck's opening hours.) I then calculated a \"weighted\" review. This weighted review considers the amounts of ratings a truck has been given, and appropriately scales the average rating accordingly. I came up with this idea after considering my personal level of trust in reviews. I would rather go to a restaurant with 100 reviews, but a 4 star rating, than a restaurant with 3 reviews, but a 5 star rating. This also gives us an idea of how truly popular and well-reviewed the restaurant is overall, since a weighted score that is closer to the average indicates a high number of reviews. Coordinate data is also collected from the Google Maps query, which I use for my map visualizations later.\n",
    "\n",
    "I intialized my DataFrame dynamically, hopefully allowing for any coordinate to be placed in the search query and for a result to be properly created.   \n",
    "\n",
    "## About my visualizations\n",
    "I utilized the ipyleaflet as well as the Geopy libraries in order to create my map visualizations. By collecting the coordinate data from Google Maps, I calculated several measures of distance. I utilized Geopy's distance function, which uses geodesic math to find the shortest distance between two points, taking note of the Earth's curvature. One visualization I created from this data was a visual distance heatmap. This would allow hungry searchers to determine the closest adjacent food truck. Distances are color coded in a heatmap format to allow for fast interpretation.\n",
    "My next visualization involves the ipyleaflet library. This library allows me to output an interactive map onto the Juypter notebook interface. I constructed a dynamic map that will place markers on each of the found food trucks. I then used my distance calculation to form paths between the nearest trucks. This will allow for the ideal travel path to be found! (The paths are colored in Purdue's colors!)\n",
    "\n",
    "Like my DataFrame, these maps were dynamically generated from the Google Maps query. This will allow for any new data to appropriately appear as needed. \n",
    "\n",
    "# The foodie plan\n",
    "\n",
    "## Day 1:\n",
    "Let's begin in West Lafayette, right near Purdue! We can grab lunch around 11:00 AM at **The Guac Box** (1400 West State St. STE K), this restaurant has a very good weighted score, and if we wanted to check what's on the menu, we can visit their [website](http://theguacbox.com/), so get ready for some great **tacos**! Optionally, we can visit the Farmer's Fridge (1198 3rd Street, West Lafayette), but we don't have a lot of information, and it has a pretty low score, so I wouldn't make it a priority. \n",
    "\n",
    "\n",
    "We then travel out of Purdue's town to head to neighboring Lafayette. A 3.6 mile drive from The Guac Box brings us to our next high scoring food truck, **Wicked Food Shack** (2070 S 22nd St). We can visit any time after lunch, make sure to give them a call at (765) 409-7743 to see if they're open, but we can get a second round of **tacos** here! \n",
    "\n",
    "\n",
    "Keep some room for more tacos around  at the **Tacos Mexico Food Truck** (3109 South St), just 1.5 miles away, we have another solid food truck. I would check their [menu](http://www.tacosmexicolafayette.com/) and maybe give them a call before visiting, since we were not able to obtain their hours. \n",
    "\n",
    "But hold on to your stomach! We'll definitely want to hit **Tortas Food Truck** (311 Sagamore Pkwy N), easily the highest score we've seen yet, just in time for dinner around 5 PM. We'll have to drive a quick 0.3 miles.\n",
    "\n",
    "\n",
    "We have some time to relax from all of the tacos we've had so far, let's head back to Purdue's campus and get some studying in (it's midterms season!) Luckily for us, we don't have to spend all night, for we have a final food truck to visit today! **Famous Frank's** (30 Pierce St) is a classic spot for late night meals past 11PM. Grab some hot dogs and sandwiches here, and hopefully spot some other students here. This food truck is a little elusive, with no website or phone number easily found. (However, if we decided to stay near Tortas Food Truck for a while, it would have been a 2.8 mile drive back.)\n",
    "\n",
    "And with that, we've finished day 1 of our foodie trip! Lots of tacos today.\n",
    "\n",
    "## Day 2:\n",
    "\n",
    "Luckily for us, we have another great food truck waiting for us back at Purdue for lunch around 11AM once again. **Grilled Chicken and Rice** (1400 W State St Suite M) is right next to where we started yesterday! After that, we're gonna head to Indianapolis and spend a day there. Lots to do, and lots to see, and lots to eat! \n",
    "\n",
    "\n",
    "We'll make sure to visit **The Latin Flavor**, about 64 miles away. We'll be able to get a new Indy taco taste! After that we can visit the new **Big Jerry Indy Food Truck**. A low weighted score simply corresponds to less reviews, but we can change that! We can grab some fresh sandwiches for dinner before 7PM, after spending a fun day in Indy!\n",
    "\n",
    "# Conclusion\n",
    "That concludes my 2 day foodie plan, as well as my discussion on the implementation of my DataFrame. I hope you'll find a good food truck to eat at near you!"
   ]
  }
 ],
 "metadata": {
  "kernelspec": {
   "display_name": "Python 3 (ipykernel)",
   "language": "python",
   "name": "python3"
  },
  "language_info": {
   "codemirror_mode": {
    "name": "ipython",
    "version": 3
   },
   "file_extension": ".py",
   "mimetype": "text/x-python",
   "name": "python",
   "nbconvert_exporter": "python",
   "pygments_lexer": "ipython3",
   "version": "3.9.13"
  }
 },
 "nbformat": 4,
 "nbformat_minor": 5
}
